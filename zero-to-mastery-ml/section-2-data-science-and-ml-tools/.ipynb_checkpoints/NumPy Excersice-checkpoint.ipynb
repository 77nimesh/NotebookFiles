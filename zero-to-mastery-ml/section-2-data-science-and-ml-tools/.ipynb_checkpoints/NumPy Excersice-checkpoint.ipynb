{
 "cells": [
  {
   "cell_type": "markdown",
   "id": "bfbedb15-37fb-4fa3-9e1d-93c25d2a22a2",
   "metadata": {},
   "source": [
    "# Importing Numpy"
   ]
  },
  {
   "cell_type": "code",
   "execution_count": 2,
   "id": "f8a391c7-adde-49ce-a9ab-841d65f09819",
   "metadata": {},
   "outputs": [],
   "source": [
    "import numpy as np"
   ]
  },
  {
   "cell_type": "markdown",
   "id": "5d8b9c39-5722-48cd-8ca4-13f8f241a5bc",
   "metadata": {},
   "source": [
    "# NumPy DataType and Atributes"
   ]
  },
  {
   "cell_type": "markdown",
   "id": "4e4cac91-5dce-4bf5-9b34-f54bb6d1f1b4",
   "metadata": {},
   "source": [
    "**1-dimentional array**"
   ]
  },
  {
   "cell_type": "code",
   "execution_count": 23,
   "id": "967ae525-4fa9-4e66-9461-d6cadd85f909",
   "metadata": {},
   "outputs": [
    {
     "name": "stdout",
     "output_type": "stream",
     "text": [
      "a1 = [1 2 3 4] \n",
      "\n",
      "Shape = (4,) \n",
      "DataType = int32 \n",
      "No.Dimentions = 1 \n",
      "Size = 4 \n",
      "Type = <class 'numpy.ndarray'>\n"
     ]
    }
   ],
   "source": [
    "a1 = np.array([1,2,3,4])\n",
    "print(f\"a1 = {a1} \\n\\nShape = {a1.shape} \\nDataType = {a1.dtype} \\nNo.Dimentions = {a1.ndim} \\nSize = {a1.size} \\nType = {type(a1)}\")"
   ]
  },
  {
   "cell_type": "markdown",
   "id": "f1c38e9a-ab85-4196-8352-08a48957bcb2",
   "metadata": {},
   "source": [
    "**2-dimentional array**"
   ]
  },
  {
   "cell_type": "code",
   "execution_count": 24,
   "id": "7904bfc7-fdb5-44af-a982-4a0057b0fd70",
   "metadata": {},
   "outputs": [
    {
     "name": "stdout",
     "output_type": "stream",
     "text": [
      "[[1.  2.  3.  4. ]\n",
      " [5.  6.  7.  8.8]] \n",
      "\n",
      "Shape = (2, 4) \n",
      "DataType = float64 \n",
      "No.Dimentions = 2 \n",
      "Size = 8 \n",
      "Type = <class 'numpy.ndarray'>\n"
     ]
    }
   ],
   "source": [
    "a2 = np.array([[1,2,3,4],\n",
    "              [5,6,7,8.8]])\n",
    "print(f\"{a2} \\n\\nShape = {a2.shape} \\nDataType = {a2.dtype} \\nNo.Dimentions = {a2.ndim} \\nSize = {a2.size} \\nType = {type(a2)}\")"
   ]
  },
  {
   "cell_type": "markdown",
   "id": "a52f94b7-2305-42e4-a414-307d3fab85c7",
   "metadata": {},
   "source": [
    "**3-dimentional array**"
   ]
  },
  {
   "cell_type": "code",
   "execution_count": 26,
   "id": "b2c396d6-cfe6-4794-a658-4e06253e1008",
   "metadata": {},
   "outputs": [
    {
     "name": "stdout",
     "output_type": "stream",
     "text": [
      "[[[ 1  2  3  4]\n",
      "  [ 5  6  7  8]\n",
      "  [ 9 10 11 12]]\n",
      "\n",
      " [[13 14 15 16]\n",
      "  [17 18 19 20]\n",
      "  [22 23 24 25]]] \n",
      "\n",
      "Shape = (2, 3, 4) \n",
      "DataType = int32 \n",
      "No.Dimentions = 3 \n",
      "Size = 24 \n",
      "Type = <class 'numpy.ndarray'>\n"
     ]
    }
   ],
   "source": [
    "a3 = np.array([[[1,2,3,4],\n",
    "                [5,6,7,8],\n",
    "                [9,10,11,12]],\n",
    "               [[13,14,15,16],\n",
    "               [17,18,19,20],\n",
    "               [22,23,24,25]]])\n",
    "\n",
    "print(f\"{a3} \\n\\nShape = {a3.shape} \\nDataType = {a3.dtype} \\nNo.Dimentions = {a3.ndim} \\nSize = {a3.size} \\nType = {type(a3)}\")"
   ]
  },
  {
   "cell_type": "code",
   "execution_count": 30,
   "id": "4e4a009a-45c4-4ed6-84d6-ba0f51f4d7b2",
   "metadata": {},
   "outputs": [
    {
     "name": "stdout",
     "output_type": "stream",
     "text": [
      "[[[ 1  2  3  4  8]\n",
      "  [ 5  6  7  8  8]\n",
      "  [ 9 10 11 12  8]]\n",
      "\n",
      " [[13 14 15 16  7]\n",
      "  [17 18 19 20  7]\n",
      "  [22 23 24 25  7]]] \n",
      "\n",
      "Shape = (2, 3, 5) \n",
      "DataType = int32 \n",
      "No.Dimentions = 3 \n",
      "Size = 30 \n",
      "Type = <class 'numpy.ndarray'>\n"
     ]
    }
   ],
   "source": [
    "a3 = np.array([[[1,2,3,4,8],\n",
    "                [5,6,7,8,8],\n",
    "                [9,10,11,12,8]],\n",
    "               [[13,14,15,16,7],\n",
    "               [17,18,19,20,7],\n",
    "               [22,23,24,25,7]]])\n",
    "\n",
    "print(f\"{a3} \\n\\nShape = {a3.shape} \\nDataType = {a3.dtype} \\nNo.Dimentions = {a3.ndim} \\nSize = {a3.size} \\nType = {type(a3)}\")"
   ]
  },
  {
   "cell_type": "code",
   "execution_count": 42,
   "id": "ffdba1ad-a45d-4fad-8d71-14735b1fd257",
   "metadata": {},
   "outputs": [
    {
     "name": "stdout",
     "output_type": "stream",
     "text": [
      "[[[ 1  2  3  4]\n",
      "  [ 5  6  7  8]\n",
      "  [ 9 10 11 12]]\n",
      "\n",
      " [[13 14 15 16]\n",
      "  [17 18 19 20]\n",
      "  [22 23 24 25]]\n",
      "\n",
      " [[ 1  1  1  1]\n",
      "  [ 2  2  2  2]\n",
      "  [ 3  3  3  3]]] \n",
      "\n",
      "Shape = (3, 3, 4) \n",
      "DataType = int32 \n",
      "No.Dimentions = 3 \n",
      "Size = 36 \n",
      "Type = <class 'numpy.ndarray'>\n"
     ]
    }
   ],
   "source": [
    "a3 = np.array([[[1,2,3,4],\n",
    "                [5,6,7,8],\n",
    "                [9,10,11,12]],\n",
    "               [[13,14,15,16],\n",
    "               [17,18,19,20],\n",
    "               [22,23,24,25]],\n",
    "              [[1,1,1,1],\n",
    "              [2,2,2,2],\n",
    "              [3,3,3,3]]])\n",
    "\n",
    "print(f\"{a3} \\n\\nShape = {a3.shape} \\nDataType = {a3.dtype} \\nNo.Dimentions = {a3.ndim} \\nSize = {a3.size} \\nType = {type(a3)}\")"
   ]
  },
  {
   "cell_type": "markdown",
   "id": "a83f994a-4c87-4d9f-8621-1334524e3d8f",
   "metadata": {},
   "source": [
    "**Pandas Dataframe out of NimPy arrays**"
   ]
  },
  {
   "cell_type": "code",
   "execution_count": 44,
   "id": "5e702343-89a1-4021-9bfb-701a017b4c12",
   "metadata": {},
   "outputs": [],
   "source": [
    "# Import pandas\n",
    "import pandas as pd"
   ]
  },
  {
   "cell_type": "code",
   "execution_count": 48,
   "id": "05d37816-f6c1-4ad6-bc2b-093d09a4e5c9",
   "metadata": {},
   "outputs": [
    {
     "data": {
      "text/html": [
       "<div>\n",
       "<style scoped>\n",
       "    .dataframe tbody tr th:only-of-type {\n",
       "        vertical-align: middle;\n",
       "    }\n",
       "\n",
       "    .dataframe tbody tr th {\n",
       "        vertical-align: top;\n",
       "    }\n",
       "\n",
       "    .dataframe thead th {\n",
       "        text-align: right;\n",
       "    }\n",
       "</style>\n",
       "<table border=\"1\" class=\"dataframe\">\n",
       "  <thead>\n",
       "    <tr style=\"text-align: right;\">\n",
       "      <th></th>\n",
       "      <th>a</th>\n",
       "      <th>b</th>\n",
       "      <th>c</th>\n",
       "      <th>d</th>\n",
       "    </tr>\n",
       "  </thead>\n",
       "  <tbody>\n",
       "    <tr>\n",
       "      <th>0</th>\n",
       "      <td>6</td>\n",
       "      <td>30</td>\n",
       "      <td>33</td>\n",
       "      <td>16</td>\n",
       "    </tr>\n",
       "    <tr>\n",
       "      <th>1</th>\n",
       "      <td>24</td>\n",
       "      <td>23</td>\n",
       "      <td>27</td>\n",
       "      <td>14</td>\n",
       "    </tr>\n",
       "    <tr>\n",
       "      <th>2</th>\n",
       "      <td>22</td>\n",
       "      <td>29</td>\n",
       "      <td>31</td>\n",
       "      <td>18</td>\n",
       "    </tr>\n",
       "    <tr>\n",
       "      <th>3</th>\n",
       "      <td>9</td>\n",
       "      <td>34</td>\n",
       "      <td>22</td>\n",
       "      <td>21</td>\n",
       "    </tr>\n",
       "    <tr>\n",
       "      <th>4</th>\n",
       "      <td>7</td>\n",
       "      <td>10</td>\n",
       "      <td>6</td>\n",
       "      <td>33</td>\n",
       "    </tr>\n",
       "    <tr>\n",
       "      <th>5</th>\n",
       "      <td>6</td>\n",
       "      <td>34</td>\n",
       "      <td>34</td>\n",
       "      <td>33</td>\n",
       "    </tr>\n",
       "  </tbody>\n",
       "</table>\n",
       "</div>"
      ],
      "text/plain": [
       "    a   b   c   d\n",
       "0   6  30  33  16\n",
       "1  24  23  27  14\n",
       "2  22  29  31  18\n",
       "3   9  34  22  21\n",
       "4   7  10   6  33\n",
       "5   6  34  34  33"
      ]
     },
     "execution_count": 48,
     "metadata": {},
     "output_type": "execute_result"
    }
   ],
   "source": [
    "df = pd.DataFrame(np.random.randint(low=5,high=35,size=(6,4)),columns=['a','b','c','d'])\n",
    "df"
   ]
  },
  {
   "cell_type": "markdown",
   "id": "4fa17887-9c66-40bf-adfd-3faacd1c6389",
   "metadata": {},
   "source": [
    "# Creating Arrays"
   ]
  },
  {
   "cell_type": "code",
   "execution_count": 50,
   "id": "3c06ee91-b3a6-4ec9-bf58-481e3b5f4171",
   "metadata": {},
   "outputs": [
    {
     "data": {
      "text/plain": [
       "(array([1, 2, 3, 4]), dtype('int32'))"
      ]
     },
     "execution_count": 50,
     "metadata": {},
     "output_type": "execute_result"
    }
   ],
   "source": [
    "# Create a simple array\n",
    "simple_array = np.array([1,2,3,4])\n",
    "simple_array, simple_array.dtype"
   ]
  },
  {
   "cell_type": "code",
   "execution_count": 52,
   "id": "3efd673b-ffbb-421b-bc18-949432ec6b43",
   "metadata": {},
   "outputs": [
    {
     "data": {
      "text/plain": [
       "(array([1, 2, 3, 4]), dtype('int32'))"
      ]
     },
     "execution_count": 52,
     "metadata": {},
     "output_type": "execute_result"
    }
   ],
   "source": [
    "simple_array = np.array((1,2,3,4))\n",
    "simple_array, simple_array.dtype"
   ]
  },
  {
   "cell_type": "code",
   "execution_count": 53,
   "id": "c8e808f7-816b-425d-80c6-f4ad2de92fdf",
   "metadata": {},
   "outputs": [
    {
     "data": {
      "text/plain": [
       "array([1., 1., 1., 1., 1.])"
      ]
     },
     "execution_count": 53,
     "metadata": {},
     "output_type": "execute_result"
    }
   ],
   "source": [
    "# Create an array of ones\n",
    "ones = np.ones(shape=(5))\n",
    "ones"
   ]
  },
  {
   "cell_type": "code",
   "execution_count": 54,
   "id": "592a59af-a8dc-47b3-9db8-9305bdaf41b0",
   "metadata": {},
   "outputs": [
    {
     "data": {
      "text/plain": [
       "array([1., 1., 1., 1., 1.])"
      ]
     },
     "execution_count": 54,
     "metadata": {},
     "output_type": "execute_result"
    }
   ],
   "source": [
    "ones = np.ones(shape=(5,))\n",
    "ones"
   ]
  },
  {
   "cell_type": "code",
   "execution_count": 58,
   "id": "a578bb1a-738c-4fee-adb5-da75ad58a070",
   "metadata": {},
   "outputs": [
    {
     "data": {
      "text/plain": [
       "array([[1., 1., 1.],\n",
       "       [1., 1., 1.],\n",
       "       [1., 1., 1.],\n",
       "       [1., 1., 1.],\n",
       "       [1., 1., 1.]])"
      ]
     },
     "execution_count": 58,
     "metadata": {},
     "output_type": "execute_result"
    }
   ],
   "source": [
    "ones = np.ones(shape=(5,3))\n",
    "ones"
   ]
  },
  {
   "cell_type": "code",
   "execution_count": 59,
   "id": "90ad56fd-a0a6-459b-ae32-e93e77a19ef2",
   "metadata": {},
   "outputs": [
    {
     "data": {
      "text/plain": [
       "dtype('float64')"
      ]
     },
     "execution_count": 59,
     "metadata": {},
     "output_type": "execute_result"
    }
   ],
   "source": [
    "ones.dtype"
   ]
  },
  {
   "cell_type": "code",
   "execution_count": 64,
   "id": "753c1d38-34f3-431f-8e85-d0f987a4a1b3",
   "metadata": {},
   "outputs": [
    {
     "data": {
      "text/plain": [
       "array([[1, 1, 1, 1],\n",
       "       [1, 1, 1, 1],\n",
       "       [1, 1, 1, 1],\n",
       "       [1, 1, 1, 1],\n",
       "       [1, 1, 1, 1]])"
      ]
     },
     "execution_count": 64,
     "metadata": {},
     "output_type": "execute_result"
    }
   ],
   "source": [
    "ones = np.ones(shape=(5,4),dtype=int)\n",
    "ones"
   ]
  },
  {
   "cell_type": "code",
   "execution_count": 65,
   "id": "007ff2d1-11cb-4114-932e-ccf6fdcf7bc6",
   "metadata": {},
   "outputs": [
    {
     "data": {
      "text/plain": [
       "(dtype('float64'),\n",
       " array([[1., 1., 1., 1.],\n",
       "        [1., 1., 1., 1.],\n",
       "        [1., 1., 1., 1.],\n",
       "        [1., 1., 1., 1.],\n",
       "        [1., 1., 1., 1.]]))"
      ]
     },
     "execution_count": 65,
     "metadata": {},
     "output_type": "execute_result"
    }
   ],
   "source": [
    "ones = ones.astype(float)\n",
    "ones.dtype, ones"
   ]
  },
  {
   "cell_type": "code",
   "execution_count": 69,
   "id": "f7cf1bc1-9bda-443d-aead-3371a82654a1",
   "metadata": {},
   "outputs": [
    {
     "data": {
      "text/plain": [
       "(dtype('int32'),\n",
       " array([[1, 1, 1, 1],\n",
       "        [1, 1, 1, 1],\n",
       "        [1, 1, 1, 1],\n",
       "        [1, 1, 1, 1],\n",
       "        [1, 1, 1, 1]]))"
      ]
     },
     "execution_count": 69,
     "metadata": {},
     "output_type": "execute_result"
    }
   ],
   "source": [
    "ones = ones.astype(int)\n",
    "ones.dtype, ones"
   ]
  },
  {
   "cell_type": "code",
   "execution_count": 73,
   "id": "bc6fc56b-ca91-49af-bb25-5c0148c94515",
   "metadata": {},
   "outputs": [
    {
     "data": {
      "text/plain": [
       "(array([[0., 0., 0., 0., 0., 0., 0., 0., 0.],\n",
       "        [0., 0., 0., 0., 0., 0., 0., 0., 0.],\n",
       "        [0., 0., 0., 0., 0., 0., 0., 0., 0.],\n",
       "        [0., 0., 0., 0., 0., 0., 0., 0., 0.],\n",
       "        [0., 0., 0., 0., 0., 0., 0., 0., 0.],\n",
       "        [0., 0., 0., 0., 0., 0., 0., 0., 0.],\n",
       "        [0., 0., 0., 0., 0., 0., 0., 0., 0.]]),\n",
       " dtype('float64'))"
      ]
     },
     "execution_count": 73,
     "metadata": {},
     "output_type": "execute_result"
    }
   ],
   "source": [
    "# Create an array of Zeros\n",
    "zeros =  np.zeros(shape=(7,9))\n",
    "zeros, zeros.dtype"
   ]
  },
  {
   "cell_type": "code",
   "execution_count": 74,
   "id": "85d499cb-6ecf-4e54-90d6-2350756c5397",
   "metadata": {},
   "outputs": [
    {
     "data": {
      "text/plain": [
       "(array([[0, 0, 0, 0, 0, 0, 0, 0, 0],\n",
       "        [0, 0, 0, 0, 0, 0, 0, 0, 0],\n",
       "        [0, 0, 0, 0, 0, 0, 0, 0, 0],\n",
       "        [0, 0, 0, 0, 0, 0, 0, 0, 0],\n",
       "        [0, 0, 0, 0, 0, 0, 0, 0, 0],\n",
       "        [0, 0, 0, 0, 0, 0, 0, 0, 0],\n",
       "        [0, 0, 0, 0, 0, 0, 0, 0, 0]]),\n",
       " dtype('int32'))"
      ]
     },
     "execution_count": 74,
     "metadata": {},
     "output_type": "execute_result"
    }
   ],
   "source": [
    "zeros =  np.zeros(shape=(7,9),dtype=int)\n",
    "zeros, zeros.dtype"
   ]
  },
  {
   "cell_type": "code",
   "execution_count": 77,
   "id": "d4b60a3a-26d2-4646-9aec-fceea5339f88",
   "metadata": {},
   "outputs": [
    {
     "data": {
      "text/plain": [
       "array([0, 1, 2, 3, 4, 5, 6, 7, 8])"
      ]
     },
     "execution_count": 77,
     "metadata": {},
     "output_type": "execute_result"
    }
   ],
   "source": [
    "# Create an array within a range of values\n",
    "range_array = np.arange(0,9,1)\n",
    "range_array"
   ]
  },
  {
   "cell_type": "code",
   "execution_count": 78,
   "id": "0e054054-200c-4d18-8ca9-14313d919964",
   "metadata": {},
   "outputs": [
    {
     "data": {
      "text/plain": [
       "array([0., 1., 2., 3., 4., 5., 6., 7., 8.])"
      ]
     },
     "execution_count": 78,
     "metadata": {},
     "output_type": "execute_result"
    }
   ],
   "source": [
    "range_array = np.arange(0,9,1,dtype=float)\n",
    "range_array"
   ]
  },
  {
   "cell_type": "code",
   "execution_count": 80,
   "id": "7335eba9-2ff9-41a5-9e64-2135735d9403",
   "metadata": {},
   "outputs": [
    {
     "data": {
      "text/plain": [
       "array([0.  , 0.11, 0.22, 0.33, 0.44, 0.55, 0.66, 0.77, 0.88, 0.99, 1.1 ,\n",
       "       1.21, 1.32, 1.43, 1.54, 1.65, 1.76, 1.87, 1.98, 2.09, 2.2 , 2.31,\n",
       "       2.42, 2.53, 2.64, 2.75, 2.86, 2.97])"
      ]
     },
     "execution_count": 80,
     "metadata": {},
     "output_type": "execute_result"
    }
   ],
   "source": [
    "range_array = np.arange(0,3,.11)\n",
    "range_array"
   ]
  },
  {
   "cell_type": "markdown",
   "id": "56c88f89-6ff5-4016-a02d-713a0899da90",
   "metadata": {},
   "source": [
    "**To create a array of 5 with shape (50,) you can do as below and select dtype as int**"
   ]
  },
  {
   "cell_type": "code",
   "execution_count": 88,
   "id": "2bea2409-c980-4d9e-a37c-f8d2b07fbb8d",
   "metadata": {},
   "outputs": [
    {
     "data": {
      "text/plain": [
       "(array([5, 5, 5, 5, 5, 5, 5, 5, 5, 5, 5, 5, 5, 5, 5, 5, 5, 5, 5, 5, 5, 5,\n",
       "        5, 5, 5, 5, 5, 5, 5, 5, 5, 5, 5, 5, 5, 5, 5, 5, 5, 5, 5, 5, 5, 5,\n",
       "        5, 5, 5, 5, 5, 5]),\n",
       " 50,\n",
       " (50,))"
      ]
     },
     "execution_count": 88,
     "metadata": {},
     "output_type": "execute_result"
    }
   ],
   "source": [
    "range_array = np.arange(5,5.5,0.01,dtype=int)\n",
    "range_array, range_array.size, range_array.shape"
   ]
  },
  {
   "cell_type": "code",
   "execution_count": 93,
   "id": "39cc1852-a3ff-4671-9e3b-5082a91e3e16",
   "metadata": {},
   "outputs": [
    {
     "data": {
      "text/plain": [
       "(array([[90, 28, 17, 89, 88, 21, 29, 49, 35, 67],\n",
       "        [98, 95, 16, 15, 49, 67, 70, 74, 82, 31],\n",
       "        [55, 65, 94, 60, 69, 90, 18, 46, 69, 76]]),\n",
       " (3, 10))"
      ]
     },
     "execution_count": 93,
     "metadata": {},
     "output_type": "execute_result"
    }
   ],
   "source": [
    "# Random Array\n",
    "random_array = np.random.randint(low=10, high=100, size=(3,10), dtype=int)\n",
    "random_array, random_array.shape"
   ]
  },
  {
   "cell_type": "code",
   "execution_count": 92,
   "id": "fe8b6d82-92a0-4dc3-b184-cd7d28ad5ea7",
   "metadata": {},
   "outputs": [
    {
     "data": {
      "text/plain": [
       "(array([0.88108953, 0.50934097, 0.25603124, 0.74020275, 0.87955557,\n",
       "        0.47372673, 0.87911523, 0.91208768, 0.63938777, 0.27691636]),\n",
       " 10)"
      ]
     },
     "execution_count": 92,
     "metadata": {},
     "output_type": "execute_result"
    }
   ],
   "source": [
    "# Create a random array of floats\n",
    "rand_array = np.random.random(10)\n",
    "rand_array, rand_array.size"
   ]
  },
  {
   "cell_type": "code",
   "execution_count": 95,
   "id": "e3a6ac5d-23c6-40bc-8fbe-f1980ffe2202",
   "metadata": {},
   "outputs": [
    {
     "data": {
      "text/plain": [
       "(array([[0.0657954 , 0.28049537, 0.0735772 , 0.03170706, 0.10410628],\n",
       "        [0.99966345, 0.80874261, 0.65453327, 0.32225422, 0.99992248],\n",
       "        [0.53404273, 0.29006579, 0.41799331, 0.06311032, 0.41328651],\n",
       "        [0.04041019, 0.4371231 , 0.96308218, 0.20567493, 0.46516732],\n",
       "        [0.85500365, 0.70561201, 0.44376298, 0.38417267, 0.61374355]]),\n",
       " (5, 5))"
      ]
     },
     "execution_count": 95,
     "metadata": {},
     "output_type": "execute_result"
    }
   ],
   "source": [
    "rand_array = np.random.random(size=(5,5))\n",
    "rand_array, rand_array.shape"
   ]
  },
  {
   "cell_type": "code",
   "execution_count": 96,
   "id": "7c7d2404-a309-4cc4-9c4d-4220de75dd06",
   "metadata": {},
   "outputs": [
    {
     "data": {
      "text/plain": [
       "array([[5, 0, 3, 3, 7],\n",
       "       [9, 3, 5, 2, 4],\n",
       "       [7, 6, 8, 8, 1],\n",
       "       [6, 7, 7, 8, 1],\n",
       "       [5, 9, 8, 9, 4]])"
      ]
     },
     "execution_count": 96,
     "metadata": {},
     "output_type": "execute_result"
    }
   ],
   "source": [
    "# Create a random with a seed\n",
    "# set random seed = 0\n",
    "np.random.seed(0)\n",
    "# Create random numbers\n",
    "np.random.randint(10, size=(5,5))"
   ]
  },
  {
   "cell_type": "code",
   "execution_count": 100,
   "id": "26eef652-638c-46dc-bb3f-ed496006b834",
   "metadata": {},
   "outputs": [
    {
     "data": {
      "text/plain": [
       "array([[5, 0, 3, 3, 7],\n",
       "       [9, 3, 5, 2, 4],\n",
       "       [7, 6, 8, 8, 1],\n",
       "       [6, 7, 7, 8, 1],\n",
       "       [5, 9, 8, 9, 4],\n",
       "       [3, 0, 3, 5, 0],\n",
       "       [2, 3, 8, 1, 3]])"
      ]
     },
     "execution_count": 100,
     "metadata": {},
     "output_type": "execute_result"
    }
   ],
   "source": [
    "np.random.seed(0)\n",
    "np.random.randint(10,size=(7,5))"
   ]
  },
  {
   "cell_type": "code",
   "execution_count": 105,
   "id": "2f06c4fe-439d-4281-b543-7d5b55c0d773",
   "metadata": {},
   "outputs": [
    {
     "data": {
      "text/plain": [
       "array([[0, 8, 8, 3, 8],\n",
       "       [2, 8, 4, 3, 0],\n",
       "       [4, 3, 6, 9, 8],\n",
       "       [0, 8, 5, 9, 0],\n",
       "       [9, 6, 5, 3, 1],\n",
       "       [8, 0, 4, 9, 6],\n",
       "       [5, 7, 8, 8, 9]])"
      ]
     },
     "execution_count": 105,
     "metadata": {},
     "output_type": "execute_result"
    }
   ],
   "source": [
    "# Without setting seed in each cell and run the randint you will get random numbers each time. will not get the same number again\n",
    "np.random.randint(10,size=(7,5))"
   ]
  },
  {
   "cell_type": "code",
   "execution_count": 106,
   "id": "ec213550-9a96-4c18-87ae-fba3f8669ff7",
   "metadata": {},
   "outputs": [
    {
     "data": {
      "text/plain": [
       "array([[[ 1,  2,  3,  4],\n",
       "        [ 5,  6,  7,  8],\n",
       "        [ 9, 10, 11, 12]],\n",
       "\n",
       "       [[13, 14, 15, 16],\n",
       "        [17, 18, 19, 20],\n",
       "        [22, 23, 24, 25]],\n",
       "\n",
       "       [[ 1,  1,  1,  1],\n",
       "        [ 2,  2,  2,  2],\n",
       "        [ 3,  3,  3,  3]]])"
      ]
     },
     "execution_count": 106,
     "metadata": {},
     "output_type": "execute_result"
    }
   ],
   "source": [
    "a3"
   ]
  },
  {
   "cell_type": "code",
   "execution_count": 114,
   "id": "40e8293d-db32-4768-9891-6fcd57f29523",
   "metadata": {},
   "outputs": [
    {
     "data": {
      "text/plain": [
       "(array([ 1,  2,  3,  4,  5,  6,  7,  8,  9, 10, 11, 12, 13, 14, 15, 16, 17,\n",
       "        18, 19, 20, 22, 23, 24, 25]),\n",
       " 24)"
      ]
     },
     "execution_count": 114,
     "metadata": {},
     "output_type": "execute_result"
    }
   ],
   "source": [
    "np.unique(a3), len(np.unique(a3))"
   ]
  },
  {
   "cell_type": "code",
   "execution_count": 113,
   "id": "522a187c-781e-41ef-8364-05ab89a1219a",
   "metadata": {},
   "outputs": [
    {
     "data": {
      "text/plain": [
       "11"
      ]
     },
     "execution_count": 113,
     "metadata": {},
     "output_type": "execute_result"
    }
   ],
   "source": [
    "a3[0][2][2]"
   ]
  },
  {
   "cell_type": "code",
   "execution_count": 117,
   "id": "011a664d-dbd4-4c9e-81cf-f2d93d83b351",
   "metadata": {},
   "outputs": [
    {
     "data": {
      "text/plain": [
       "array([[[[ 51, 169, 223, 121, 230],\n",
       "         [133, 175, 248,  21,  73],\n",
       "         [178,  52, 121, 128, 188],\n",
       "         [127, 186, 135, 209,  60]],\n",
       "\n",
       "        [[ 52,  81, 103, 176, 230],\n",
       "         [ 94,  26, 134, 176, 134],\n",
       "         [ 52, 244,  36,  47,  52],\n",
       "         [137, 170, 244, 172,  65]],\n",
       "\n",
       "        [[ 81,  83,   3, 194, 117],\n",
       "         [126, 125, 223,  32, 174],\n",
       "         [ 18,  89, 190, 215,  25],\n",
       "         [ 43,  57,  68,  71, 202]]],\n",
       "\n",
       "\n",
       "       [[[143, 174,  57, 249,  26],\n",
       "         [ 41, 152, 120,  50, 250],\n",
       "         [ 98, 243,  57, 155, 181],\n",
       "         [200, 110, 106, 184, 189]],\n",
       "\n",
       "        [[ 87,   5, 159,  90,  52],\n",
       "         [ 36, 170, 204,  85,  46],\n",
       "         [183, 141, 140, 253,  10],\n",
       "         [171, 221, 253, 184, 106]],\n",
       "\n",
       "        [[ 96,  54, 174,  10, 125],\n",
       "         [200, 148, 214, 155, 233],\n",
       "         [217, 151, 164, 242,  82],\n",
       "         [210, 246,  50, 164, 243]]]])"
      ]
     },
     "execution_count": 117,
     "metadata": {},
     "output_type": "execute_result"
    }
   ],
   "source": [
    "np.random.seed(255)\n",
    "a4 = np.random.randint(255, size=(2, 3, 4, 5))\n",
    "a4"
   ]
  },
  {
   "cell_type": "markdown",
   "id": "a71e6500-17e1-4359-9414-18b80bb125fd",
   "metadata": {},
   "source": [
    "## How to select only below section from above a4 array"
   ]
  },
  {
   "cell_type": "raw",
   "id": "5defcd48-6ece-4396-984e-76177dcecd0f",
   "metadata": {},
   "source": [
    "        [[ 81,  83,   3, 194, 117],\n",
    "         [126, 125, 223,  32, 174],\n",
    "         [ 18,  89, 190, 215,  25],\n",
    "         [ 43,  57,  68,  71, 202]]],\n",
    "\n",
    "\n",
    "       [[[143, 174,  57, 249,  26],\n",
    "         [ 41, 152, 120,  50, 250],\n",
    "         [ 98, 243,  57, 155, 181],\n",
    "         [200, 110, 106, 184, 189]],"
   ]
  },
  {
   "cell_type": "code",
   "execution_count": 139,
   "id": "1f8a6896-5ddc-428c-9f21-2ac2402b2ffd",
   "metadata": {},
   "outputs": [
    {
     "data": {
      "text/plain": [
       "(array([[ 81,  83,   3, 194, 117],\n",
       "        [126, 125, 223,  32, 174],\n",
       "        [ 18,  89, 190, 215,  25],\n",
       "        [ 43,  57,  68,  71, 202]]),\n",
       " array([[143, 174,  57, 249,  26],\n",
       "        [ 41, 152, 120,  50, 250],\n",
       "        [ 98, 243,  57, 155, 181],\n",
       "        [200, 110, 106, 184, 189]]))"
      ]
     },
     "execution_count": 139,
     "metadata": {},
     "output_type": "execute_result"
    }
   ],
   "source": [
    "# This is how to select seperatly\n",
    "a4[0][2] , a4[1][0]"
   ]
  },
  {
   "cell_type": "markdown",
   "id": "4da4f41c-3219-4fed-8e72-79f7a3857148",
   "metadata": {},
   "source": [
    "**This is how to select using tupple base indexing**"
   ]
  },
  {
   "cell_type": "code",
   "execution_count": 137,
   "id": "e9aaf6a5-c1df-4483-a815-17581141b8c1",
   "metadata": {},
   "outputs": [
    {
     "data": {
      "text/plain": [
       "array([[[ 81,  83,   3, 194, 117],\n",
       "        [126, 125, 223,  32, 174],\n",
       "        [ 18,  89, 190, 215,  25],\n",
       "        [ 43,  57,  68,  71, 202]],\n",
       "\n",
       "       [[143, 174,  57, 249,  26],\n",
       "        [ 41, 152, 120,  50, 250],\n",
       "        [ 98, 243,  57, 155, 181],\n",
       "        [200, 110, 106, 184, 189]]])"
      ]
     },
     "execution_count": 137,
     "metadata": {},
     "output_type": "execute_result"
    }
   ],
   "source": [
    "a4[(0,1),(2,0)]"
   ]
  },
  {
   "cell_type": "code",
   "execution_count": 119,
   "id": "14cc8485-c099-4bfd-b091-85aa577cd9f3",
   "metadata": {},
   "outputs": [
    {
     "data": {
      "text/plain": [
       "(2, 3, 4, 5)"
      ]
     },
     "execution_count": 119,
     "metadata": {},
     "output_type": "execute_result"
    }
   ],
   "source": [
    "a4.shape"
   ]
  },
  {
   "cell_type": "markdown",
   "id": "568daff8-bccb-442e-8a50-6683e5447d32",
   "metadata": {},
   "source": [
    "## Turning an image into a numpy array"
   ]
  },
  {
   "cell_type": "markdown",
   "id": "7694343a-b82a-4182-acc4-5e8505ba3104",
   "metadata": {},
   "source": [
    "**Why?**\n",
    "\n",
    "Computers analyze images by interpreting numerical data within a numpy array, identifying patterns that help them understand the image's content. This process is the foundation of modern computer vision algorithms."
   ]
  },
  {
   "cell_type": "markdown",
   "id": "b7ea5a95-c07c-478a-873d-0edfe4812ff2",
   "metadata": {},
   "source": [
    "**Check below example image**\n",
    "\n",
    "![Dog Image to convert to NumPy array](dog.jpeg)"
   ]
  },
  {
   "cell_type": "code",
   "execution_count": 145,
   "id": "3384885f-2a2d-43a9-8fb6-9fb2ca316197",
   "metadata": {},
   "outputs": [
    {
     "name": "stdout",
     "output_type": "stream",
     "text": [
      "<class 'numpy.ndarray'>\n"
     ]
    }
   ],
   "source": [
    "from matplotlib.image import imread\n",
    "\n",
    "dog = imread('dog.jpeg')\n",
    "\n",
    "print(type(dog))"
   ]
  },
  {
   "cell_type": "code",
   "execution_count": 146,
   "id": "efed8944-1d2d-4071-b16f-3f73c7226ead",
   "metadata": {},
   "outputs": [
    {
     "data": {
      "text/plain": [
       "(379, 474, 3)"
      ]
     },
     "execution_count": 146,
     "metadata": {},
     "output_type": "execute_result"
    }
   ],
   "source": [
    "dog.shape"
   ]
  },
  {
   "cell_type": "code",
   "execution_count": 147,
   "id": "a10d288b-e5a4-43c8-bd13-e0d1b5a50184",
   "metadata": {},
   "outputs": [
    {
     "data": {
      "text/plain": [
       "538938"
      ]
     },
     "execution_count": 147,
     "metadata": {},
     "output_type": "execute_result"
    }
   ],
   "source": [
    "dog.size"
   ]
  },
  {
   "cell_type": "code",
   "execution_count": 148,
   "id": "74c07b9f-8baa-49e4-83bc-0ec053de5c12",
   "metadata": {},
   "outputs": [
    {
     "data": {
      "text/plain": [
       "array([[[  0,  15,  76],\n",
       "        [  7,  16,  47],\n",
       "        [ 30,  21,  12],\n",
       "        ...,\n",
       "        [ 17,   3,   0],\n",
       "        [ 11,   1,   0],\n",
       "        [ 10,   2,   0]],\n",
       "\n",
       "       [[  0,   0,  30],\n",
       "        [ 13,  11,  12],\n",
       "        [ 58,  39,   0],\n",
       "        ...,\n",
       "        [ 17,   3,   0],\n",
       "        [ 13,   2,   0],\n",
       "        [ 11,   3,   0]],\n",
       "\n",
       "       [[ 29,  20,  13],\n",
       "        [ 67,  47,  10],\n",
       "        [156, 117,  40],\n",
       "        ...,\n",
       "        [ 26,  11,   8],\n",
       "        [ 16,   2,   0],\n",
       "        [ 13,   3,   1]],\n",
       "\n",
       "       ...,\n",
       "\n",
       "       [[ 40,  17,  25],\n",
       "        [ 32,   6,   9],\n",
       "        [ 80,  46,  44],\n",
       "        ...,\n",
       "        [ 56,  36,  27],\n",
       "        [ 14,   0,   0],\n",
       "        [ 43,  26,  18]],\n",
       "\n",
       "       [[ 56,  38,  50],\n",
       "        [ 25,   4,  13],\n",
       "        [ 43,  17,  20],\n",
       "        ...,\n",
       "        [ 33,  14,   7],\n",
       "        [ 32,  15,   8],\n",
       "        [ 71,  56,  49]],\n",
       "\n",
       "       [[ 68,  56,  70],\n",
       "        [ 20,   4,  15],\n",
       "        [ 21,   0,   5],\n",
       "        ...,\n",
       "        [ 22,   5,   0],\n",
       "        [ 15,   0,   0],\n",
       "        [ 63,  50,  44]]], dtype=uint8)"
      ]
     },
     "execution_count": 148,
     "metadata": {},
     "output_type": "execute_result"
    }
   ],
   "source": [
    "dog"
   ]
  },
  {
   "cell_type": "markdown",
   "id": "74c95a06-bcda-44d3-9132-cdaf157f7d17",
   "metadata": {},
   "source": [
    "# How to modify the image"
   ]
  },
  {
   "cell_type": "code",
   "execution_count": 154,
   "id": "1cd068bc-8909-46a4-b61b-bac2a580a69e",
   "metadata": {},
   "outputs": [
    {
     "data": {
      "text/plain": [
       "array([[[153,  71,  34],\n",
       "        [153,  71,  34],\n",
       "        [153,  71,  34],\n",
       "        ...,\n",
       "        [227, 157,  85],\n",
       "        [233, 163,  91],\n",
       "        [236, 168,  95]],\n",
       "\n",
       "       [[153,  71,  34],\n",
       "        [153,  71,  34],\n",
       "        [153,  71,  34],\n",
       "        ...,\n",
       "        [226, 154,  82],\n",
       "        [232, 162,  90],\n",
       "        [238, 168,  96]],\n",
       "\n",
       "       [[154,  70,  34],\n",
       "        [154,  70,  34],\n",
       "        [154,  70,  34],\n",
       "        ...,\n",
       "        [220, 148,  76],\n",
       "        [228, 156,  84],\n",
       "        [236, 166,  94]],\n",
       "\n",
       "       ...,\n",
       "\n",
       "       [[169,  80,  46],\n",
       "        [167,  81,  46],\n",
       "        [166,  82,  48],\n",
       "        ...,\n",
       "        [ 98,   0,   6],\n",
       "        [ 99,   0,   2],\n",
       "        [ 98,   0,   0]],\n",
       "\n",
       "       [[165,  79,  46],\n",
       "        [164,  80,  46],\n",
       "        [163,  80,  48],\n",
       "        ...,\n",
       "        [ 87,   0,   0],\n",
       "        [ 97,   4,   0],\n",
       "        [113,  22,  17]],\n",
       "\n",
       "       [[162,  76,  43],\n",
       "        [161,  76,  45],\n",
       "        [161,  78,  46],\n",
       "        ...,\n",
       "        [ 95,   9,   0],\n",
       "        [ 99,  16,   2],\n",
       "        [115,  33,  21]]], dtype=uint8)"
      ]
     },
     "execution_count": 154,
     "metadata": {},
     "output_type": "execute_result"
    }
   ],
   "source": [
    "croped_dog = dog[100:250,120:360]\n",
    "croped_dog"
   ]
  },
  {
   "cell_type": "code",
   "execution_count": 155,
   "id": "debd0837-dd02-450f-966c-1f29d322beb4",
   "metadata": {},
   "outputs": [],
   "source": [
    "from PIL import Image"
   ]
  },
  {
   "cell_type": "code",
   "execution_count": 159,
   "id": "0b2020ce-7f60-407d-a5bd-b27f8922b8f0",
   "metadata": {},
   "outputs": [
    {
     "data": {
      "image/jpeg": "[encoded data removed]",
      "image/png": "[encoded data removed]",
      "text/plain": [
       "<PIL.Image.Image image mode=RGB size=240x150>"
      ]
     },
     "execution_count": 159,
     "metadata": {},
     "output_type": "execute_result"
    }
   ],
   "source": [
    "image = Image.fromarray((croped_dog).astype(np.uint8))\n",
    "image"
   ]
  },
  {
   "cell_type": "code",
   "execution_count": 160,
   "id": "94e80c9d-eebf-469e-a4ce-3c252d105223",
   "metadata": {},
   "outputs": [
    {
     "data": {
      "image/jpeg": "[encoded data removed]",
      "image/png": "[encoded data removed]",
      "text/plain": [
       "<PIL.Image.Image image mode=RGB size=260x200>"
      ]
     },
     "execution_count": 160,
     "metadata": {},
     "output_type": "execute_result"
    }
   ],
   "source": [
    "croped_dog = dog[50:250, 120:380]\n",
    "image = Image.fromarray(croped_dog.astype(np.uint8))\n",
    "image"
   ]
  },
  {
   "cell_type": "code",
   "execution_count": null,
   "id": "ed44dba5-5afa-4efd-93f6-26d4eff6a8e5",
   "metadata": {},
   "outputs": [],
   "source": []
  }
 ],
 "metadata": {
  "kernelspec": {
   "display_name": "Python 3 (ipykernel)",
   "language": "python",
   "name": "python3"
  },
  "language_info": {
   "codemirror_mode": {
    "name": "ipython",
    "version": 3
   },
   "file_extension": ".py",
   "mimetype": "text/x-python",
   "name": "python",
   "nbconvert_exporter": "python",
   "pygments_lexer": "ipython3",
   "version": "3.12.3"
  }
 },
 "nbformat": 4,
 "nbformat_minor": 5
}
